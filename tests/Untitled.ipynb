{
 "cells": [
  {
   "cell_type": "code",
   "execution_count": 4,
   "id": "39292c85-bb50-49bf-bb0b-276006cd9a26",
   "metadata": {},
   "outputs": [],
   "source": [
    "import json\n",
    "with open(\"testJSON.json\",\"w\") as f:\n",
    "    r = json.dump([1,2,3,4,5,6,7],f)"
   ]
  },
  {
   "cell_type": "code",
   "execution_count": null,
   "id": "1693cffe-7514-4a05-8857-e9904d04c24b",
   "metadata": {},
   "outputs": [],
   "source": []
  }
 ],
 "metadata": {
  "kernelspec": {
   "display_name": "Python 3 (ipykernel)",
   "language": "python",
   "name": "python3"
  },
  "language_info": {
   "codemirror_mode": {
    "name": "ipython",
    "version": 3
   },
   "file_extension": ".py",
   "mimetype": "text/x-python",
   "name": "python",
   "nbconvert_exporter": "python",
   "pygments_lexer": "ipython3",
   "version": "3.12.7"
  }
 },
 "nbformat": 4,
 "nbformat_minor": 5
}
